{
 "cells": [
  {
   "cell_type": "code",
   "execution_count": 0,
   "metadata": {
    "application/vnd.databricks.v1+cell": {
     "cellMetadata": {
      "byteLimit": 2048000,
      "rowLimit": 10000
     },
     "inputWidgets": {},
     "nuid": "6dd1db9a-eeec-4a06-9ff7-64c11dab3bd1",
     "showTitle": false,
     "tableResultSettingsMap": {},
     "title": ""
    }
   },
   "outputs": [],
   "source": [
    "CREATE OR REPLACE TABLE taxi_catalog.gold.yellow_taxi_hourly_avg_may_2023\n",
    "USING DELTA\n",
    "AS\n",
    "SELECT\n",
    "    2023 AS year,\n",
    "    5 AS month,\n",
    "    HOUR(pickup_datetime) AS hour,\n",
    "    ROUND(AVG(passenger_count), 2) AS avg_passenger_count\n",
    "FROM taxi_catalog.silver.yellow_taxi\n",
    "WHERE pickup_datetime >= '2023-05-01'\n",
    "  AND pickup_datetime <  '2023-06-01'\n",
    "GROUP BY hour\n",
    "ORDER BY hour;"
   ]
  }
 ],
 "metadata": {
  "application/vnd.databricks.v1+notebook": {
   "computePreferences": null,
   "dashboards": [],
   "environmentMetadata": {
    "base_environment": "",
    "environment_version": "2"
   },
   "inputWidgetPreferences": null,
   "language": "sql",
   "notebookMetadata": {
    "pythonIndentUnit": 4
   },
   "notebookName": "yellow_taxi_hourly_avg_may_2023",
   "widgets": {}
  },
  "language_info": {
   "name": "sql"
  }
 },
 "nbformat": 4,
 "nbformat_minor": 0
}
