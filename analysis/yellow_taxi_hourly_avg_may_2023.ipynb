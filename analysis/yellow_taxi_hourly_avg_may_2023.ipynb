{
 "cells": [
  {
   "cell_type": "markdown",
   "metadata": {
    "application/vnd.databricks.v1+cell": {
     "cellMetadata": {},
     "inputWidgets": {},
     "nuid": "4ace57e9-671e-44f7-a6b3-36bbe7ad8266",
     "showTitle": false,
     "tableResultSettingsMap": {},
     "title": ""
    }
   },
   "source": [
    "# Análise: média horária de passageiros em Maio/2023\n",
    "\n",
    "Este notebook calcula a média de passageiros por hora do dia para as corridas de táxis amarelos de Nova York em Maio de 2023.\n",
    "\n",
    "## Processo\n",
    "1. Lê os dados da camada silver\n",
    "2. Filtra para o mês de maio/2023\n",
    "3. Extrai a hora do dia do timestamp\n",
    "4. Calcula a média de passageiros por hora\n",
    "5. Salva os resultados em uma tabela gold\n",
    "\n",
    "## Colunas resultantes\n",
    "- year: Ano fixo (2023)\n",
    "- month: Mês fixo (5)\n",
    "- hour: Hora do dia (0-23)\n",
    "- avg_passenger_count: Média de passageiros por hora\n",
    "\n",
    "## Período analisado\n",
    "- Maio de 2023"
   ]
  },
  {
   "cell_type": "markdown",
   "metadata": {
    "application/vnd.databricks.v1+cell": {
     "cellMetadata": {},
     "inputWidgets": {},
     "nuid": "5d234bf5-bf5a-43cd-99c8-6b2fec4e6ab6",
     "showTitle": false,
     "tableResultSettingsMap": {},
     "title": ""
    }
   },
   "source": []
  },
  {
   "cell_type": "code",
   "execution_count": 0,
   "metadata": {
    "application/vnd.databricks.v1+cell": {
     "cellMetadata": {
      "byteLimit": 2048000,
      "rowLimit": 10000
     },
     "inputWidgets": {},
     "nuid": "6dd1db9a-eeec-4a06-9ff7-64c11dab3bd1",
     "showTitle": false,
     "tableResultSettingsMap": {},
     "title": ""
    }
   },
   "outputs": [],
   "source": [
    "CREATE OR REPLACE TABLE taxi_catalog.gold.yellow_taxi_hourly_avg_may_2023\n",
    "USING DELTA\n",
    "AS\n",
    "SELECT\n",
    "    2023 AS year,\n",
    "    5 AS month,\n",
    "    HOUR(pickup_datetime) AS hour,\n",
    "    ROUND(AVG(passenger_count), 2) AS avg_passenger_count\n",
    "FROM taxi_catalog.silver.yellow_taxi\n",
    "WHERE pickup_datetime >= '2023-05-01'\n",
    "  AND pickup_datetime <  '2023-06-01'\n",
    "GROUP BY hour\n",
    "ORDER BY hour;"
   ]
  }
 ],
 "metadata": {
  "application/vnd.databricks.v1+notebook": {
   "computePreferences": null,
   "dashboards": [],
   "environmentMetadata": {
    "base_environment": "",
    "environment_version": "2"
   },
   "inputWidgetPreferences": null,
   "language": "sql",
   "notebookMetadata": {
    "pythonIndentUnit": 4
   },
   "notebookName": "yellow_taxi_hourly_avg_may_2023",
   "widgets": {}
  },
  "language_info": {
   "name": "sql"
  }
 },
 "nbformat": 4,
 "nbformat_minor": 0
}
