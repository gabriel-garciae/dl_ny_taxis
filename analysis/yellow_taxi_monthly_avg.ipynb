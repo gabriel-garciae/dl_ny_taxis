{
 "cells": [
  {
   "cell_type": "code",
   "execution_count": 0,
   "metadata": {
    "application/vnd.databricks.v1+cell": {
     "cellMetadata": {
      "byteLimit": 2048000,
      "rowLimit": 10000
     },
     "inputWidgets": {},
     "nuid": "c1675cf0-f78f-40f2-81da-79aa1a52e947",
     "showTitle": false,
     "tableResultSettingsMap": {},
     "title": ""
    }
   },
   "outputs": [],
   "source": [
    "CREATE OR REPLACE TABLE taxi_catalog.gold.yellow_taxi_monthly_avg\n",
    "USING DELTA\n",
    "PARTITIONED BY (year, month)\n",
    "AS\n",
    "SELECT\n",
    "  YEAR(pickup_datetime)                              AS year,\n",
    "  MONTH(pickup_datetime)                             AS month,\n",
    "  CONCAT(YEAR(pickup_datetime), '-', LPAD(MONTH(pickup_datetime), 2, '0')) AS ym,\n",
    "  ROUND(AVG(total_amount), 2)                        AS avg_total_amount\n",
    "FROM taxi_catalog.silver.yellow_taxi\n",
    "WHERE pickup_datetime >= '2023-01-01' AND pickup_datetime < '2023-06-01'\n",
    "GROUP BY YEAR(pickup_datetime), MONTH(pickup_datetime);"
   ]
  }
 ],
 "metadata": {
  "application/vnd.databricks.v1+notebook": {
   "computePreferences": null,
   "dashboards": [],
   "environmentMetadata": {
    "base_environment": "",
    "environment_version": "2"
   },
   "inputWidgetPreferences": null,
   "language": "sql",
   "notebookMetadata": {
    "mostRecentlyExecutedCommandWithImplicitDF": {
     "commandId": 8037241750409527,
     "dataframes": [
      "_sqldf"
     ]
    },
    "pythonIndentUnit": 4
   },
   "notebookName": "yellow_taxi_monthly_avg",
   "widgets": {}
  },
  "language_info": {
   "name": "sql"
  }
 },
 "nbformat": 4,
 "nbformat_minor": 0
}
