{
 "cells": [
  {
   "cell_type": "code",
   "execution_count": null,
   "metadata": {},
   "outputs": [],
   "source": [
    "# Análise: Média Mensal de Valores dos Táxis\n",
    "\n",
    "Este notebook calcula a média mensal do valor total (total_amount) das corridas de táxis amarelos de Nova York para o período de Janeiro a Maio de 2023.\n",
    "\n",
    "## Processo\n",
    "1. Lê os dados da camada silver\n",
    "2. Agrupa por ano e mês\n",
    "3. Calcula a média do valor total\n",
    "4. Salva os resultados em uma tabela gold\n",
    "\n",
    "## Colunas Resultantes\n",
    "- year: Ano da corrida\n",
    "- month: Mês da corrida\n",
    "- ym: Ano-mês no formato YYYY-MM\n",
    "- avg_total_amount: Média do valor total das corridas\n",
    "\n",
    "## Período Analisado\n",
    "- Janeiro a Maio de 2023\n"
   ]
  },
  {
   "cell_type": "code",
   "execution_count": 0,
   "metadata": {
    "application/vnd.databricks.v1+cell": {
     "cellMetadata": {
      "byteLimit": 2048000,
      "rowLimit": 10000
     },
     "inputWidgets": {},
     "nuid": "c1675cf0-f78f-40f2-81da-79aa1a52e947",
     "showTitle": false,
     "tableResultSettingsMap": {},
     "title": ""
    }
   },
   "outputs": [],
   "source": [
    "CREATE OR REPLACE TABLE taxi_catalog.gold.yellow_taxi_monthly_avg\n",
    "USING DELTA\n",
    "PARTITIONED BY (year, month)\n",
    "AS\n",
    "SELECT\n",
    "  YEAR(pickup_datetime)                              AS year,\n",
    "  MONTH(pickup_datetime)                             AS month,\n",
    "  CONCAT(YEAR(pickup_datetime), '-', LPAD(MONTH(pickup_datetime), 2, '0')) AS ym,\n",
    "  ROUND(AVG(total_amount), 2)                        AS avg_total_amount\n",
    "FROM taxi_catalog.silver.yellow_taxi\n",
    "WHERE pickup_datetime >= '2023-01-01' AND pickup_datetime < '2023-06-01'\n",
    "GROUP BY YEAR(pickup_datetime), MONTH(pickup_datetime);"
   ]
  }
 ],
 "metadata": {
  "application/vnd.databricks.v1+notebook": {
   "computePreferences": null,
   "dashboards": [],
   "environmentMetadata": {
    "base_environment": "",
    "environment_version": "2"
   },
   "inputWidgetPreferences": null,
   "language": "sql",
   "notebookMetadata": {
    "mostRecentlyExecutedCommandWithImplicitDF": {
     "commandId": 8037241750409527,
     "dataframes": [
      "_sqldf"
     ]
    },
    "pythonIndentUnit": 4
   },
   "notebookName": "yellow_taxi_monthly_avg",
   "widgets": {}
  },
  "language_info": {
   "name": "sql"
  }
 },
 "nbformat": 4,
 "nbformat_minor": 0
}
