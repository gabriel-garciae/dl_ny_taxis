{
 "cells": [
  {
   "cell_type": "markdown",
   "metadata": {
    "application/vnd.databricks.v1+cell": {
     "cellMetadata": {},
     "inputWidgets": {},
     "nuid": "2760df40-43d6-4e97-9ea6-b806c8b46c3f",
     "showTitle": false,
     "tableResultSettingsMap": {},
     "title": ""
    }
   },
   "source": [
    "Importar bibliotecas"
   ]
  },
  {
   "cell_type": "code",
   "execution_count": 0,
   "metadata": {
    "application/vnd.databricks.v1+cell": {
     "cellMetadata": {},
     "inputWidgets": {},
     "nuid": "d7316e6b-d0bb-417b-bb12-22114c035270",
     "showTitle": false,
     "tableResultSettingsMap": {},
     "title": ""
    }
   },
   "outputs": [],
   "source": [
    "import os\n",
    "import pyspark.sql.functions as F"
   ]
  },
  {
   "cell_type": "markdown",
   "metadata": {
    "application/vnd.databricks.v1+cell": {
     "cellMetadata": {},
     "inputWidgets": {},
     "nuid": "843f2f52-701f-4e69-ba10-cfc49d879a9c",
     "showTitle": false,
     "tableResultSettingsMap": {},
     "title": ""
    }
   },
   "source": [
    "Motor ingestão raw"
   ]
  },
  {
   "cell_type": "code",
   "execution_count": 0,
   "metadata": {
    "application/vnd.databricks.v1+cell": {
     "cellMetadata": {
      "byteLimit": 2048000,
      "rowLimit": 10000
     },
     "inputWidgets": {},
     "nuid": "9c760db9-664e-4533-b285-e35dcc50d663",
     "showTitle": false,
     "tableResultSettingsMap": {},
     "title": ""
    }
   },
   "outputs": [],
   "source": [
    "landing_path = \"/Volumes/taxi_catalog/landing/yellow_taxi\"\n",
    "bronze_path = \"taxi_catalog.bronze.yellow_taxi\"\n",
    "\n",
    "# caminho base dos arquivos\n",
    "files = [f.path for f in dbutils.fs.ls(landing_path) if f.path.endswith(\".parquet\")]\n",
    "\n",
    "df_list = []\n",
    "\n",
    "# iteração para cada arquivo no file\n",
    "for file_path in files:\n",
    "    df_temp = (\n",
    "        spark.read.parquet(file_path)\n",
    "        .withColumn(\"source_file\", F.lit(file_path))\n",
    "        .withColumn(\"ingestion_ts\", F.current_timestamp())\n",
    "    )\n",
    "\n",
    "    # cast de tipos que podem gerar conflito\n",
    "    df_temp = (\n",
    "        df_temp.withColumn(\"passenger_count\", F.col(\"passenger_count\").cast(\"double\"))\n",
    "        .withColumn(\"VendorID\", F.col(\"VendorID\").cast(\"long\"))\n",
    "        .withColumn(\"RatecodeID\", F.col(\"RatecodeID\").cast(\"double\"))\n",
    "        .withColumn(\"PULocationID\", F.col(\"PULocationID\").cast(\"long\"))\n",
    "        .withColumn(\"DOLocationID\", F.col(\"DOLocationID\").cast(\"long\"))\n",
    "    )\n",
    "\n",
    "    df_list.append(df_temp)\n",
    "\n",
    "df_bronze = df_list[0]\n",
    "for df in df_list[1:]:\n",
    "    df_bronze = df_bronze.unionByName(df, allowMissingColumns=True)\n",
    "\n",
    "df_bronze.write.format(\"delta\") \\\n",
    "    .mode(\"overwrite\") \\\n",
    "    .saveAsTable(bronze_path)"
   ]
  },
  {
   "cell_type": "markdown",
   "metadata": {
    "application/vnd.databricks.v1+cell": {
     "cellMetadata": {},
     "inputWidgets": {},
     "nuid": "19cb2193-a921-4a4d-b04b-6ead4473473a",
     "showTitle": false,
     "tableResultSettingsMap": {},
     "title": ""
    }
   },
   "source": []
  }
 ],
 "metadata": {
  "application/vnd.databricks.v1+notebook": {
   "computePreferences": null,
   "dashboards": [],
   "environmentMetadata": {
    "base_environment": "",
    "environment_version": "2"
   },
   "inputWidgetPreferences": null,
   "language": "python",
   "notebookMetadata": {
    "mostRecentlyExecutedCommandWithImplicitDF": {
     "commandId": 4994025556005249,
     "dataframes": [
      "_sqldf"
     ]
    },
    "pythonIndentUnit": 4
   },
   "notebookName": "engine_raw",
   "widgets": {}
  },
  "language_info": {
   "name": "python"
  }
 },
 "nbformat": 4,
 "nbformat_minor": 0
}
