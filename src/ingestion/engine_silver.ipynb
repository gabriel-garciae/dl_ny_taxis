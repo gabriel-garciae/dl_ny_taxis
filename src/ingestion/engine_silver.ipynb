{
 "cells": [
  {
   "cell_type": "markdown",
   "metadata": {
    "application/vnd.databricks.v1+cell": {
     "cellMetadata": {
      "byteLimit": 2048000,
      "rowLimit": 10000
     },
     "inputWidgets": {},
     "nuid": "0b64c2fd-47f9-4a67-a4ca-8b4862478a91",
     "showTitle": false,
     "tableResultSettingsMap": {},
     "title": ""
    }
   },
   "source": [
    "Importar bibliotecas"
   ]
  },
  {
   "cell_type": "code",
   "execution_count": 0,
   "metadata": {
    "application/vnd.databricks.v1+cell": {
     "cellMetadata": {
      "byteLimit": 2048000,
      "rowLimit": 10000
     },
     "inputWidgets": {},
     "nuid": "a34e2a98-6b1d-4525-bd11-ca401e5cbbb5",
     "showTitle": false,
     "tableResultSettingsMap": {},
     "title": ""
    }
   },
   "outputs": [],
   "source": [
    "import pyspark.sql.functions as F"
   ]
  },
  {
   "cell_type": "markdown",
   "metadata": {
    "application/vnd.databricks.v1+cell": {
     "cellMetadata": {
      "byteLimit": 2048000,
      "rowLimit": 10000
     },
     "inputWidgets": {},
     "nuid": "06fc02f6-d26b-4d29-a6cb-71b489dc3d62",
     "showTitle": false,
     "tableResultSettingsMap": {},
     "title": ""
    }
   },
   "source": [
    "Paths"
   ]
  },
  {
   "cell_type": "code",
   "execution_count": 0,
   "metadata": {
    "application/vnd.databricks.v1+cell": {
     "cellMetadata": {
      "byteLimit": 2048000,
      "rowLimit": 10000
     },
     "inputWidgets": {},
     "nuid": "2433bbee-dfbc-429b-8a73-65c35ed9fd37",
     "showTitle": false,
     "tableResultSettingsMap": {},
     "title": ""
    }
   },
   "outputs": [],
   "source": [
    "bronze_table = \"taxi_catalog.bronze.yellow_taxi\"\n",
    "silver_table = \"taxi_catalog.silver.yellow_taxi\"\n",
    "\n",
    "df = spark.table(bronze_table)"
   ]
  },
  {
   "cell_type": "markdown",
   "metadata": {
    "application/vnd.databricks.v1+cell": {
     "cellMetadata": {
      "byteLimit": 2048000,
      "rowLimit": 10000
     },
     "inputWidgets": {},
     "nuid": "edcba551-2277-43f4-9d47-ec879af1dc9a",
     "showTitle": false,
     "tableResultSettingsMap": {},
     "title": ""
    }
   },
   "source": [
    "Trasformações"
   ]
  },
  {
   "cell_type": "code",
   "execution_count": 0,
   "metadata": {
    "application/vnd.databricks.v1+cell": {
     "cellMetadata": {
      "byteLimit": 2048000,
      "rowLimit": 10000
     },
     "inputWidgets": {},
     "nuid": "255f4fb2-a4e1-4a54-85e0-ef67071423c8",
     "showTitle": false,
     "tableResultSettingsMap": {},
     "title": ""
    }
   },
   "outputs": [],
   "source": [
    "for col_name in df.columns:\n",
    "    new_col_name = col_name.strip().lower().replace(\" \", \"_\")\n",
    "    if col_name != new_col_name:\n",
    "        df = df.withColumnRenamed(col_name, new_col_name)\n",
    "\n",
    "df = df.select(\n",
    "    F.col(\"vendorid\").cast(\"int\").alias(\"vendor_id\"),\n",
    "    F.to_timestamp(\"tpep_pickup_datetime\").alias(\"pickup_datetime\"),\n",
    "    F.to_timestamp(\"tpep_dropoff_datetime\").alias(\"dropoff_datetime\"),\n",
    "    F.col(\"passenger_count\").cast(\"int\").alias(\"passenger_count\"),\n",
    "    F.col(\"trip_distance\").cast(\"double\").alias(\"trip_distance\"),\n",
    "    F.col(\"RatecodeID\").cast(\"int\").alias(\"ratecode_id\"),\n",
    "    F.col(\"store_and_fwd_flag\").alias(\"store_and_fwd_flag\"),\n",
    "    F.col(\"PULocationID\").cast(\"int\").alias(\"pulocation_id\"),\n",
    "    F.col(\"DOLocationID\").cast(\"int\").alias(\"dolocation_id\"),\n",
    "    F.col(\"payment_type\").cast(\"int\").alias(\"payment_type\"),\n",
    "    F.col(\"fare_amount\").cast(\"double\").alias(\"fare_amount\"),\n",
    "    F.col(\"extra\").cast(\"double\").alias(\"extra\"),\n",
    "    F.col(\"mta_tax\").cast(\"double\").alias(\"mta_tax\"),\n",
    "    F.col(\"tip_amount\").cast(\"double\").alias(\"tip_amount\"),\n",
    "    F.col(\"tolls_amount\").cast(\"double\").alias(\"tolls_amount\"),\n",
    "    F.col(\"improvement_surcharge\").cast(\"double\").alias(\"improvement_surcharge\"),\n",
    "    F.col(\"congestion_surcharge\").cast(\"double\").alias(\"congestion_surcharge\"),\n",
    "    F.col(\"airport_fee\").cast(\"double\").alias(\"airport_fee\"),\n",
    "    F.col(\"total_amount\").cast(\"double\").alias(\"total_amount\"),\n",
    "    F.col(\"source_file\").alias(\"source_file\"),\n",
    "    F.col(\"ingestion_ts\").alias(\"ingestion_ts\")\n",
    ")\n",
    "\n",
    "df = (\n",
    "    df.withColumn(\"partition_year\",  F.year(\"pickup_datetime\"))\n",
    "      .withColumn(\"partition_month\", F.month(\"pickup_datetime\"))\n",
    "      .withColumn(\"partition_day\",   F.dayofmonth(\"pickup_datetime\"))\n",
    ")\n",
    "\n",
    "cols_final = [\n",
    "    \"vendor_id\", \"pickup_datetime\", \"dropoff_datetime\",\n",
    "    \"passenger_count\", \"trip_distance\", \"ratecode_id\",\n",
    "    \"store_and_fwd_flag\", \"pulocation_id\", \"dolocation_id\",\n",
    "    \"payment_type\", \"fare_amount\", \"extra\", \"mta_tax\",\n",
    "    \"tip_amount\", \"tolls_amount\", \"improvement_surcharge\",\n",
    "    \"congestion_surcharge\", \"airport_fee\", \"total_amount\",\n",
    "    \"is_airport_trip\", \"is_weekend\",\n",
    "    \"source_file\", \"ingestion_ts\",\n",
    "    \"partition_year\", \"partition_month\", \"partition_day\"\n",
    "]\n",
    "df = df.select([c for c in cols_final if c in df.columns])\n",
    "\n",
    "spark.sql(\"CREATE SCHEMA IF NOT EXISTS taxi_catalog.silver\")\n",
    "df.write.format(\"delta\") \\\n",
    "    .mode(\"overwrite\") \\\n",
    "    .option(\"mergeSchema\", \"true\") \\\n",
    "    .option(\"overwriteSchema\", \"true\") \\\n",
    "    .partitionBy(\"partition_year\", \"partition_month\", \"partition_day\") \\\n",
    "    .saveAsTable(silver_table)\n",
    "\n",
    "print(f\"Tabela Silver criada: {silver_table}\")\n"
   ]
  }
 ],
 "metadata": {
  "application/vnd.databricks.v1+notebook": {
   "computePreferences": null,
   "dashboards": [],
   "environmentMetadata": {
    "base_environment": "",
    "environment_version": "2"
   },
   "inputWidgetPreferences": null,
   "language": "python",
   "notebookMetadata": {
    "mostRecentlyExecutedCommandWithImplicitDF": {
     "commandId": 4994025556005248,
     "dataframes": [
      "_sqldf"
     ]
    },
    "pythonIndentUnit": 4
   },
   "notebookName": "engine_silver",
   "widgets": {}
  },
  "language_info": {
   "name": "python"
  }
 },
 "nbformat": 4,
 "nbformat_minor": 0
}
